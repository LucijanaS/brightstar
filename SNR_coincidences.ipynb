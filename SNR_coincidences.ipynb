{
 "cells": [
  {
   "cell_type": "markdown",
   "source": [
    "## SNR\n",
    "The SNR-ratio can be defined by the following function:\n",
    "\\begin{equation}\n",
    "    SNR = |V_{12}|^2 \\cdot \\alpha \\cdot A \\cdot \\Phi \\cdot \\sqrt{\\frac{T}{\\Delta t}}\n",
    "\\end{equation}\n",
    "where \n",
    "\\begin{align}\n",
    "    |V_{12}| &: \\text{complex visiblity [unitless]} \\\\\n",
    "    \\alpha &: \\text{efficiency  [unitless]} \\\\\n",
    "    A &: \\text{area in [m$^2$]} \\\\\n",
    "    \\Phi &: \\text{spectral photon flux in [m$^{−2}$ s$^{−1}$ Hz$^{−1}$]} \\\\\n",
    "    T &: \\text{observation or integration time in [s] or [hrs]} \\\\\n",
    "    \\Delta t &: \\text{time resolution in [s]}\n",
    "\\end{align}"
   ],
   "metadata": {
    "collapsed": false
   },
   "id": "f288b63871634d92"
  },
  {
   "cell_type": "code",
   "execution_count": 1,
   "outputs": [],
   "source": [
    "import numpy as np\n",
    "from brightstar_functions import Phi\n",
    "from scipy.constants import c"
   ],
   "metadata": {
    "collapsed": false,
    "ExecuteTime": {
     "end_time": "2024-05-07T12:54:00.137686Z",
     "start_time": "2024-05-07T12:53:58.796099Z"
    }
   },
   "id": "65146d8fe4578614"
  },
  {
   "cell_type": "code",
   "execution_count": 18,
   "outputs": [
    {
     "name": "stdout",
     "output_type": "stream",
     "text": [
      "0.2\n",
      "7.821445649871708e-06\n",
      "SNR:  2.1419911073676943\n"
     ]
    }
   ],
   "source": [
    "V_12 = 1\n",
    "alpha = 0.125\n",
    "diameter = 1 # m\n",
    "effective_diameter = 0.95 # how much of the telescope area actually is used to collect photons\n",
    "area = np.pi*(diameter*effective_diameter/2)**2 #m^2\n",
    "area = 0.2\n",
    "print(area)\n",
    "delta_t = 3e-11 # s\n",
    "wavelength = 540e-9 # m, bandwidth of V-mag\n",
    "\n",
    "def SNR_simple(T, magnitude):\n",
    "    return V_12**2*alpha*area*Phi(magnitude, wavelength)*np.sqrt(T/delta_t)\n",
    "\n",
    "mag = 2\n",
    "\n",
    "#calculate SNR\n",
    "print(Phi(mag, wavelength))\n",
    "print('SNR: ', SNR_simple(3600, mag))"
   ],
   "metadata": {
    "collapsed": true,
    "ExecuteTime": {
     "end_time": "2024-05-07T15:02:35.648991Z",
     "start_time": "2024-05-07T15:02:35.641485Z"
    }
   },
   "id": "initial_id"
  },
  {
   "cell_type": "markdown",
   "source": [
    "More explicitly we can express SNR as:\n",
    "\\begin{equation}\n",
    "    SNR = |V_{12}|^2 \\cdot \\varepsilon_o \\cdot \\varepsilon_d \\cdot \\frac{A}{1+B/\\Phi} \\cdot \\Phi \\cdot \\sqrt{\\frac{T}{\\Delta t}} \\cdot \\sqrt{N_\\text{chan}}\n",
    "\\end{equation}\n",
    "where we additionally have\n",
    "\\begin{align}\n",
    "    \\epsilon_o &: \\text{optical efficiency [unitless]} \\\\\n",
    "    \\epsilon_d &: \\text{detector or quantum efficiency [unitless]} \\\\\n",
    "    B &: \\text{background flux in [m$^{−2}$ s$^{−1}$ Hz$^{−1}$]} \\\\\n",
    "    N_{chan} &: \\text{number of channels [unitless]} \\\\\n",
    "\\end{align}"
   ],
   "metadata": {
    "collapsed": false
   },
   "id": "fa97c4dc00dd00c5"
  },
  {
   "cell_type": "code",
   "execution_count": 19,
   "outputs": [
    {
     "name": "stdout",
     "output_type": "stream",
     "text": [
      "7.531762477654238e-06\n",
      "SNR:  7.310285586117602\n"
     ]
    }
   ],
   "source": [
    "V_12 = 1\n",
    "efficiency_o = 0.5\n",
    "efficiency_d = 0.25\n",
    "B = 0\n",
    "N_channel = 1\n",
    "diameter = 1 # m\n",
    "effective_diameter = 0.95 # how much of the telescope area actually is used to collect photons\n",
    "area = np.pi*(diameter*effective_diameter/2)**2 #m^2\n",
    "delta_t = 3e-11 # s\n",
    "wavelength = 520e-9 # m, bandwidth of V-mag\n",
    "\n",
    "def SNR_(T, magnitude):\n",
    "    efficiency = efficiency_o*efficiency_d\n",
    "    Phi_ = Phi(magnitude, wavelength)\n",
    "    area_ = area/((1+B/Phi_))\n",
    "    return V_12**2*area_*Phi_*np.sqrt(T/delta_t)*efficiency*np.sqrt(N_channel)\n",
    "\n",
    "mag = 2\n",
    "\n",
    "#calculate SNR\n",
    "print(Phi(mag, wavelength))\n",
    "print('SNR: ', SNR_(3600, mag))"
   ],
   "metadata": {
    "collapsed": false,
    "ExecuteTime": {
     "end_time": "2024-05-07T15:02:36.344119Z",
     "start_time": "2024-05-07T15:02:36.329873Z"
    }
   },
   "id": "e3c69852a7f6d04e"
  },
  {
   "cell_type": "markdown",
   "source": [
    "For two telescopes of different diameters, efficiencies, background flux and time resolution we have:\n",
    "\\begin{align}\n",
    "    SNR &= |V_{12}|^2 \\cdot \\sqrt{\\varepsilon_{o,1}\\varepsilon_{o,2}} \\cdot \\sqrt{\\varepsilon_{d,1}\\varepsilon_{d,2}} \\cdot \\sqrt{\\frac{A_1A_2}{(1+B_1/\\Phi)(1+B_2/\\Phi)}}\\cdot \\Phi \\cdot\n",
    "    \\sqrt{\\frac{T}{\\sqrt{\\Delta t_1\\Delta t_2}}} \\cdot \\sqrt{N_\\text{chan}}\n",
    "\\end{align}"
   ],
   "metadata": {
    "collapsed": false
   },
   "id": "287c64c1eb2e031b"
  },
  {
   "cell_type": "code",
   "execution_count": 20,
   "outputs": [
    {
     "name": "stdout",
     "output_type": "stream",
     "text": [
      "SNR:  7.310285586117602\n"
     ]
    }
   ],
   "source": [
    "V_12 = 1\n",
    "epsilon_O_1 = 0.5\n",
    "epsilon_O_2 = 0.5\n",
    "epsilon_D_1 = 0.25\n",
    "epsilon_D_2 = 0.25\n",
    "\n",
    "B_1 = 0\n",
    "B_2 = 0\n",
    "N_channels = 1 \n",
    "\n",
    "\n",
    "delta_t_1 = 3e-11\n",
    "delta_t_2 = 3e-11\n",
    "\n",
    "diameter_1 = 1 # m\n",
    "diameter_2 = 1 # m\n",
    "effective_diameter_1 = 0.95 # how much of the telescope area actually is used to collect photons\n",
    "effective_diameter_2 = 0.95 # how much of the telescope area actually is used to collect photons\n",
    "\n",
    "area_1 = np.pi*(diameter_1*effective_diameter_1/2)**2 #m^2\n",
    "area_2 = np.pi*(diameter_2*effective_diameter_2/2)**2 #m^2\n",
    "\n",
    "\n",
    "wavelength = 520e-9 # m, bandwidth of V-mag\n",
    "\n",
    "def SNR_two(T, magnitude):\n",
    "    efficiency = np.sqrt(epsilon_O_1*epsilon_O_1)*np.sqrt(epsilon_D_1*epsilon_D_1)\n",
    "    Phi_ = Phi(magnitude, wavelength)\n",
    "    area_ = np.sqrt(area_1*area_2/((1+B_1/Phi_)*(1+B_2/Phi_)))\n",
    "    return V_12**2*area*Phi_*np.sqrt(T/np.sqrt(delta_t_1*delta_t_2))*efficiency*np.sqrt(N_channel)\n",
    "\n",
    "mag = 2\n",
    "\n",
    "#calculate SNR\n",
    "print('SNR: ', SNR_two(3600, mag))"
   ],
   "metadata": {
    "collapsed": false,
    "ExecuteTime": {
     "end_time": "2024-05-07T15:02:36.657289Z",
     "start_time": "2024-05-07T15:02:36.654619Z"
    }
   },
   "id": "82b2f738112e06c0"
  },
  {
   "cell_type": "markdown",
   "source": [
    "We can also check the source count per second:\n",
    "\\begin{equation}\n",
    "    N_\\text{count} &= \\varepsilon_o \\cdot \\epsilon_d \\cdot \\Phi \\cdot \\Delta \\nu \\cdot A\\\\\n",
    "\\end{equation}\n",
    "with\n",
    "\\begin{align}\n",
    "    \\Delta \\nu = \\frac{c\\cdot \\Delta \\lambda}{\\lambda^2} \\\\\n",
    "\\end{align}"
   ],
   "metadata": {
    "collapsed": false
   },
   "id": "eb9f31e0772a4616"
  },
  {
   "cell_type": "code",
   "execution_count": null,
   "outputs": [],
   "source": [
    "efficiency_d = 0.25\n",
    "efficiency_o = 0.5\n",
    "diameter = 1 # m\n",
    "effective_diameter = 0.95 # how much of the telescope area actually is used to collect photons\n",
    "area = np.pi*(diameter*effective_diameter/2)**2 #m^2\n",
    "area = 0.2\n",
    "delta_t = 3e-11 # s\n",
    "wavelength = 540e-9 # m, bandwidth of V-mag\n",
    "delta_lambda = 1e-9 # nm\n",
    "\n",
    "def count_rate(mag):\n",
    "    Phi_ = Phi(mag, wavelength)\n",
    "    delta_nu = c*delta_lambda/(wavelength**2)\n",
    "    print(delta_nu)\n",
    "    return efficiency_o*efficiency_d*delta_nu*Phi_*area\n",
    "\n",
    "print('count rate: ', count_rate(mag))"
   ],
   "metadata": {
    "collapsed": false,
    "is_executing": true
   },
   "id": "b0369ad12e267f2a"
  },
  {
   "cell_type": "markdown",
   "source": [
    "## Random Coincidence Count\n",
    "The random coincidence count (in other words, the baseline) per second is:\n",
    "\\begin{equation}\n",
    "    N_\\text{random} &= \\varepsilon_o \\cdot \\epsilon_d \\cdot \\Phi \\cdot \\Delta \\nu \\cdot A\\\\\n",
    "\\end{equation}"
   ],
   "metadata": {
    "collapsed": false
   },
   "id": "c7659e411fbb1bff"
  },
  {
   "cell_type": "code",
   "execution_count": 25,
   "outputs": [
    {
     "name": "stdout",
     "output_type": "stream",
     "text": [
      "coincidences in a hour for mag 2:  4364.59753441479\n"
     ]
    }
   ],
   "source": [
    "efficiency_d = 0.25\n",
    "efficiency_o = 0.5\n",
    "diameter = 1 # m\n",
    "effective_diameter = 0.95 # how much of the telescope area actually is used to collect photons\n",
    "area = np.pi*(diameter*effective_diameter/2)**2 #m^2\n",
    "area = 0.2\n",
    "delta_t = 30e-12 # s\n",
    "wavelength = 540e-9 # m, bandwidth of V-mag\n",
    "delta_lambda = 1e-9 # nm\n",
    "\n",
    "def coincidences(T, magnitude):\n",
    "    efficiency = efficiency_d*efficiency_o\n",
    "    phi = Phi(magnitude, wavelength)\n",
    "    delta_nu = c*delta_lambda/(wavelength**2)\n",
    "    return ((area*efficiency*phi*delta_nu)**2)*delta_t*T\n",
    "\n",
    "\n",
    "mag = 2\n",
    "print('coincidences in a hour for mag 2: ', coincidences(3600, mag))"
   ],
   "metadata": {
    "collapsed": false,
    "ExecuteTime": {
     "end_time": "2024-05-07T15:03:30.309080Z",
     "start_time": "2024-05-07T15:03:30.301383Z"
    }
   },
   "id": "ef69fa06d7f8db2f"
  },
  {
   "cell_type": "code",
   "execution_count": null,
   "outputs": [],
   "source": [],
   "metadata": {
    "collapsed": false
   },
   "id": "de9aae950c0716a1"
  }
 ],
 "metadata": {
  "kernelspec": {
   "display_name": "Python 3",
   "language": "python",
   "name": "python3"
  },
  "language_info": {
   "codemirror_mode": {
    "name": "ipython",
    "version": 2
   },
   "file_extension": ".py",
   "mimetype": "text/x-python",
   "name": "python",
   "nbconvert_exporter": "python",
   "pygments_lexer": "ipython2",
   "version": "2.7.6"
  }
 },
 "nbformat": 4,
 "nbformat_minor": 5
}
