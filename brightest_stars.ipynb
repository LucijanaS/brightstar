{
 "cells": [
  {
   "cell_type": "markdown",
   "id": "4a925e34",
   "metadata": {},
   "source": [
    "First step is to give in the coordinates of the location of observation together with altitude (if altitude unknown, set to 0)."
   ]
  },
  {
   "cell_type": "code",
   "execution_count": 1,
   "id": "79103192",
   "metadata": {
    "ExecuteTime": {
     "end_time": "2024-02-28T08:26:42.669609Z",
     "start_time": "2024-02-28T08:26:42.072340Z"
    }
   },
   "outputs": [],
   "source": [
    "from astropy.coordinates import SkyCoord, EarthLocation, AltAz\n",
    "import astropy.units as u\n",
    "from astropy.time import Time, TimeDelta\n",
    "import json\n",
    "\n",
    "# Observer's location (latitude, longitude, altitude)\n",
    "lat=47.3769*u.deg\n",
    "lon=8.5417*u.deg\n",
    "height=0*u.m\n",
    "observer_location = EarthLocation(lat, lon, height)\n"
   ]
  },
  {
   "cell_type": "markdown",
   "id": "02ef4ff1",
   "metadata": {},
   "source": [
    "Next step is to define the day on which the observation will take place."
   ]
  },
  {
   "cell_type": "code",
   "execution_count": 2,
   "id": "9da3616c",
   "metadata": {
    "ExecuteTime": {
     "end_time": "2024-02-28T08:26:42.678025Z",
     "start_time": "2024-02-28T08:26:42.669609Z"
    }
   },
   "outputs": [],
   "source": [
    "from astropy.time import Time, TimeDelta\n",
    "#from juliantime import GD_to_JD\n",
    "\n",
    "cal = 'J' # either G or J, depending on if Gregorian day or Julian day is given\n",
    "\n",
    "# Define the observation time in the local time zone\n",
    "observation_time_local = Time('2024-02-27T20:00:00')\n",
    "\n",
    "# Define the time zone offset (for Swiss winter time: UTC+01:00)\n",
    "UTC_offset = 1\n",
    "timezone_offset = TimeDelta(UTC_offset * u.hour)\n",
    "\n",
    "# Convert the observation time back to UTC\n",
    "observation_time_utc = observation_time_local - timezone_offset"
   ]
  },
  {
   "cell_type": "markdown",
   "id": "bcd06c3c",
   "metadata": {},
   "source": [
    "Now to obtain the properties of a certain star, specify the right ascension (RA) and declination (Dec). Most of the properties are retrieved from the \"bsc5-all.json\" file apart from the distance, which is determined through the parallax. Parallax angles below 0.01 arcseconds are hard to measure which leads to a higher uncertainty on the distance."
   ]
  },
  {
   "cell_type": "code",
   "execution_count": 3,
   "id": "3845fce8",
   "metadata": {
    "ExecuteTime": {
     "end_time": "2024-02-28T08:26:42.748019Z",
     "start_time": "2024-02-28T08:26:42.680722Z"
    }
   },
   "outputs": [
    {
     "name": "stdout",
     "output_type": "stream",
     "text": [
      "Bayer Designation: α Leonis\n",
      "Common Name: Regulus\n",
      "Parallax: 0.045 arcseconds\n",
      "Surface Temperature: 16000.0 K\n",
      "V Magnitude: 1.35\n",
      "B-V Magnitude: -0.11\n",
      "U-B Magnitude: -0.36\n",
      "Distance: 22.2 ps /  72.5 ly\n"
     ]
    }
   ],
   "source": [
    "from numpy import round\n",
    "\n",
    "\n",
    "# Load the JSON data\n",
    "with open('bsc5-all.json', 'r') as file:\n",
    "    stars_data = json.load(file)\n",
    "\n",
    "# Given RA and Dec\n",
    "given_ra = \"10h 08m 22s\"\n",
    "given_dec = \"+11° 58′ 01″\"\n",
    "\n",
    "# Convert given RA and Dec to the format in the JSON data for comparison\n",
    "def convert_ra_dec(ra_str, dec_str):\n",
    "    ra_parts = ra_str.split(' ')\n",
    "    ra_h = int(ra_parts[0][:-1])\n",
    "    ra_m = int(ra_parts[1][:-1])\n",
    "    ra_s = float(ra_parts[2][:-1])\n",
    "    ra_decimal = ra_h + ra_m / 60 + ra_s / 3600\n",
    "\n",
    "    dec_parts = dec_str.split(' ')\n",
    "    dec_d = int(dec_parts[0][:-1])\n",
    "    dec_m = int(dec_parts[1][:-1])\n",
    "    dec_s = float(dec_parts[2][:-1])\n",
    "    dec_decimal = dec_d + dec_m / 60 + dec_s / 3600\n",
    "\n",
    "    return ra_decimal, dec_decimal\n",
    "\n",
    "given_ra_decimal, given_dec_decimal = convert_ra_dec(given_ra, given_dec)\n",
    "\n",
    "# Iterate through stars data to find a match\n",
    "for star in stars_data:\n",
    "    # Convert star's RA and Dec from string to decimal for comparison\n",
    "    star_ra_decimal, star_dec_decimal = convert_ra_dec(star[\"RA\"], star[\"Dec\"])\n",
    "\n",
    "    # Check if the given RA and Dec match the star's RA and Dec\n",
    "    if abs(star_ra_decimal - given_ra_decimal) < 0.001 and abs(star_dec_decimal - given_dec_decimal) < 0.001:\n",
    "        # Extract parallax and B-V magnitude if available\n",
    "        BayerF = star.get(\"BayerF\")\n",
    "        common = star.get(\"Common\")\n",
    "        parallax = float(star.get(\"Parallax\"))\n",
    "        BV = float(star.get(\"B-V\"))\n",
    "        UB = float(star.get(\"U-B\"))\n",
    "        temp = float(star.get(\"K\"))\n",
    "        distance = 1/parallax\n",
    "        name = star.get(\"Name\")\n",
    "        Vmag = float(star.get(\"Vmag\"))\n",
    "        \n",
    "        print(\"Bayer Designation:\", BayerF)\n",
    "        print(\"Common Name:\", common)\n",
    "        print(\"Parallax:\", parallax, \"arcseconds\")\n",
    "        print(\"Surface Temperature:\", temp,\"K\")\n",
    "        print(\"V Magnitude:\", Vmag)\n",
    "        print(\"B-V Magnitude:\", BV)\n",
    "        print(\"U-B Magnitude:\", UB)\n",
    "        print(\"Distance:\", round(distance,1),\"ps / \", round(distance*3.262, 1),\"ly\")\n",
    "        break\n",
    "else:\n",
    "    print(\"Star not found in the data.\")"
   ]
  },
  {
   "cell_type": "markdown",
   "id": "d2dc78b6",
   "metadata": {},
   "source": [
    "If one wants to print out all the properties, run this part with `print_all` set to yes:"
   ]
  },
  {
   "cell_type": "code",
   "execution_count": 4,
   "id": "6560901e",
   "metadata": {
    "scrolled": true,
    "ExecuteTime": {
     "end_time": "2024-02-28T08:26:42.748681Z",
     "start_time": "2024-02-28T08:26:42.746797Z"
    }
   },
   "outputs": [],
   "source": [
    "print_all = \"no\"\n",
    "\n",
    "if print_all == \"yes\":\n",
    "    for star in stars_data:\n",
    "        # Convert star's RA and Dec from string to decimal for comparison\n",
    "        star_ra_decimal, star_dec_decimal = convert_ra_dec(star[\"RA\"], star[\"Dec\"])\n",
    "\n",
    "        # Check if the given RA and Dec match the star's RA and Dec\n",
    "        if abs(star_ra_decimal - given_ra_decimal) < 0.001 and abs(star_dec_decimal - given_dec_decimal) < 0.001:\n",
    "            # Print all properties of the matching star\n",
    "            for key, value in star.items():\n",
    "                print(f\"{key}: {value}\")\n",
    "            break"
   ]
  },
  {
   "cell_type": "markdown",
   "id": "5927f5f5",
   "metadata": {},
   "source": [
    "Now given the observers location and time, together with the equitorial coordinates of the object to be observed one can retrieve the horizontal coordinates:"
   ]
  },
  {
   "cell_type": "code",
   "execution_count": 5,
   "id": "f198501b",
   "metadata": {
    "ExecuteTime": {
     "end_time": "2024-02-28T08:26:43.012477Z",
     "start_time": "2024-02-28T08:26:42.752069Z"
    }
   },
   "outputs": [
    {
     "name": "stdout",
     "output_type": "stream",
     "text": [
      "Azimuth: 103d09m53.61279653s\n",
      "Altitude: 27d41m08.77555204s\n"
     ]
    }
   ],
   "source": [
    "from astropy.coordinates import SkyCoord, EarthLocation, AltAz\n",
    "import astropy.units as u\n",
    "from astropy.time import Time\n",
    "from numpy import sin, cos, arcsin, degrees\n",
    "\n",
    "# Convert latitude to radians\n",
    "lat_rad = lat.to(u.rad)\n",
    "\n",
    "# Convert equatorial coordinates to SkyCoord object\n",
    "equatorial_coords = SkyCoord(given_ra_decimal, given_dec_decimal, unit=(u.hourangle, u.deg), frame='icrs')\n",
    "\n",
    "# Calculate horizontal coordinates\n",
    "altaz_coords = equatorial_coords.transform_to(AltAz(obstime=observation_time_utc, location=EarthLocation(lat=lat, lon=lon, height=height)))\n",
    "\n",
    "# Extract azimuth and altitude\n",
    "azimuth = altaz_coords.az\n",
    "altitude = altaz_coords.alt\n",
    "\n",
    "print(\"Azimuth:\", azimuth)\n",
    "print(\"Altitude:\", altitude)\n",
    "\n",
    "if altitude < 0:\n",
    "    print(\"not visible during that time\")\n"
   ]
  },
  {
   "cell_type": "markdown",
   "id": "8ca08eb5",
   "metadata": {},
   "source": [
    "One can determine the trail it will leave across the sky, some hours before and after the set observation time."
   ]
  },
  {
   "cell_type": "code",
   "execution_count": 6,
   "id": "f7632d2e",
   "metadata": {
    "scrolled": true,
    "ExecuteTime": {
     "end_time": "2024-02-28T08:26:43.635969Z",
     "start_time": "2024-02-28T08:26:43.024521Z"
    }
   },
   "outputs": [
    {
     "data": {
      "text/plain": "<Figure size 640x480 with 2 Axes>",
      "image/png": "[encoded data removed]"
     },
     "metadata": {},
     "output_type": "display_data"
    }
   ],
   "source": [
    "import matplotlib.pyplot as plt\n",
    "import numpy as np\n",
    "from scipy.constants import sigma, pi\n",
    "\n",
    "# Define time range for trail calculation (12 hours before and after observation time)\n",
    "hours_before = 0\n",
    "hours_after = 12\n",
    "start_time = observation_time_utc - TimeDelta(hours_before * u.hour)\n",
    "end_time = observation_time_utc + TimeDelta(hours_after * u.hour)\n",
    "times = start_time + (end_time - start_time) * np.linspace(0, 1, 97)[:, None]\n",
    "\n",
    "# Calculate coordinates at each time step\n",
    "altitudes = []\n",
    "azimuths = []\n",
    "\n",
    "for time in times:\n",
    "    altaz_coords = equatorial_coords.transform_to(AltAz(obstime=time, location=EarthLocation(lat=lat, lon=lon, height=height)))\n",
    "    altitude = altaz_coords.alt\n",
    "    azimuth = altaz_coords.az\n",
    "    altitudes.append(altitude)\n",
    "    azimuths.append(azimuth)\n",
    "\n",
    "# Convert lists to arrays\n",
    "altitudes = np.array(altitudes)\n",
    "azimuths = np.array(azimuths)\n",
    "azimuths_flat = azimuths.flatten()\n",
    "datetime_objects = [Time(time[0]).to_datetime() for time in times]\n",
    "\n",
    "# Extract only the time component from datetime objects and convert to string\n",
    "time_components = [dt.time().strftime('%H:%M:%S') for dt in datetime_objects]\n",
    "\n",
    "# Plot the trail\n",
    "plt.scatter(time_components, altitudes, c=azimuths_flat, cmap='ocean', label=BayerF)\n",
    "plt.colorbar(label='Azimuth [°]')  # Add color bar indicating azimuth\n",
    "plt.xticks(time_components[::8], rotation=60)\n",
    "plt.title('Star Trail')\n",
    "plt.xlabel('Time')\n",
    "plt.ylabel('Altitude [°]')\n",
    "plt.ylim(0,90)\n",
    "plt.legend()\n",
    "plt.grid(True)\n",
    "plt.show()"
   ]
  },
  {
   "cell_type": "markdown",
   "id": "19b8a827",
   "metadata": {},
   "source": [
    "To determine the apparent size one would first need to determine the photon flux:\n",
    "$$\n",
    "\\begin{equation}\n",
    "|S(\\bold{\\Omega})|^2 = \\frac{\\nu^2/c^2}{e^{h\\nu/(kT(\\bold{\\Omega}))}-1}\n",
    "\\end{equation}\n",
    "$$\n",
    "where $|S(\\bold{\\Omega})|^2$ is the photon flux coming from direction $\\bold{\\Omega}$ on the sky with units of photons m$^2$ sr$^{-1}$s$^{-1}$Hz$^{-1}$, where we are assuming the photons coming from a blackbody source with temperature profile map of $T(\\bold{\\Omega})$. We will for now assume a homogeneous spherically shaped temperature profile with $T$ being the effective temperature.\n",
    "Next we determine the spectral photon flux density, also referred to as the count degeneracy, which has the units of photons m$^{-2}$ s$^{-1}$ Hz$^{-1}$. It is found through\n",
    "$$\n",
    "\\begin{equation}\n",
    "\\Phi = \\frac{1}{2h\\nu}\\cdot 10^{-22.44-M_i/2.5} \\text{ W m$^{-2}$ Hz$^{-1}$}\n",
    "\\end{equation}\n",
    "$$\n",
    "where $\\nu = c/\\lambda$ is the frequency or wavelength of the filter used. We have the wavelengths 364 nm for U, 442 nm for B, 540 nm for V. Finally the area in steradians can be determined through\n",
    "$$\n",
    "\\begin{equation}\n",
    "A_\\text{in sr} = \\frac{\\Phi}{|S(\\bold{\\Omega})|^2}\n",
    "\\end{equation}\n",
    "$$\n",
    "and convert the area in steradians to radians"
   ]
  },
  {
   "cell_type": "code",
   "execution_count": 10,
   "id": "1066ecaa",
   "metadata": {
    "ExecuteTime": {
     "end_time": "2024-02-28T08:36:01.621395Z",
     "start_time": "2024-02-28T08:36:01.613899Z"
    }
   },
   "outputs": [
    {
     "name": "stdout",
     "output_type": "stream",
     "text": [
      "Diameter determined through U filter: 1.12 mas\n",
      "Diameter determined through V filter: 1.09 mas\n",
      "Diameter determined through B filter: 1.02 mas\n",
      "[0.0011205348878184313, 0.0010902400498651612, 0.0010215030923568875]\n"
     ]
    }
   ],
   "source": [
    "from scipy.constants import c, h, k, e\n",
    "M_V = Vmag\n",
    "M_B = Vmag+BV\n",
    "M_U = M_B+UB\n",
    "U_lambda = 364*10**(-9)\n",
    "V_lambda = 540*10**(-9)\n",
    "B_lambda = 442*10**(-9)\n",
    "filters = [[\"U\", \"V\", \"B\"], [M_U, M_V, M_B], [U_lambda, V_lambda, B_lambda]]\n",
    "diameters = []\n",
    "for i in range(len(filters[0])):  # Iterating over the filters\n",
    "    filter_name = filters[0][i]\n",
    "    magnitude = filters[1][i]\n",
    "    lambda_ = filters[2][i]\n",
    "\n",
    "    nu = c / lambda_\n",
    "    Phi = 10**(-22.44 - magnitude / 2.5) / (2 * nu * h)\n",
    "    S = (nu**2 / c**2) / np.exp((h * nu) / (k * temp))\n",
    "    area_steradian = Phi / S\n",
    "\n",
    "    radius_radians = np.sqrt(area_steradian / (pi))\n",
    "    diameter = (6 / pi) * 60**3 * radius_radians\n",
    "    diameters.append(diameter)\n",
    "    print(\"Diameter determined through\", filter_name, \"filter:\", np.round(diameter * 10**3, 2), \"mas\")\n"
   ]
  }
 ],
 "metadata": {
  "kernelspec": {
   "display_name": "Python 3 (ipykernel)",
   "language": "python",
   "name": "python3"
  },
  "language_info": {
   "codemirror_mode": {
    "name": "ipython",
    "version": 3
   },
   "file_extension": ".py",
   "mimetype": "text/x-python",
   "name": "python",
   "nbconvert_exporter": "python",
   "pygments_lexer": "ipython3",
   "version": "3.12.2"
  }
 },
 "nbformat": 4,
 "nbformat_minor": 5
}
