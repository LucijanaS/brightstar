{
 "cells": [
  {
   "cell_type": "markdown",
   "source": [
    "# Bright Star Introduction\n",
    "This notebook gives a step by step introduction how the most important properties of a designated star during a certain night can be determined. The most important ones for our current observations are the apparent size in milliarcseconds and the visibility and position throughout the night."
   ],
   "metadata": {
    "collapsed": false
   },
   "id": "907f359ceda2aeb8"
  },
  {
   "cell_type": "markdown",
   "source": [
    "First step is to give in the coordinates of the location of observation together with altitude (if altitude unknown, set to 0)."
   ],
   "metadata": {},
   "id": "4a925e34"
  },
  {
   "cell_type": "code",
   "execution_count": 1,
   "id": "79103192",
   "metadata": {
    "ExecuteTime": {
     "end_time": "2024-03-05T15:03:35.471837Z",
     "start_time": "2024-03-05T15:03:34.746824Z"
    }
   },
   "outputs": [],
   "source": [
    "from astropy.coordinates import SkyCoord, EarthLocation, AltAz\n",
    "import astropy.units as u\n",
    "from astropy.time import Time, TimeDelta\n",
    "import json\n",
    "\n",
    "# Observer's location (latitude, longitude, altitude)\n",
    "lat=47.3769*u.deg\n",
    "lon=8.5417*u.deg\n",
    "height=0*u.m\n",
    "observer_location = EarthLocation(lat, lon, height)\n"
   ]
  },
  {
   "cell_type": "markdown",
   "id": "02ef4ff1",
   "metadata": {},
   "source": [
    "Next step is to define the day on which the observation will take place."
   ]
  },
  {
   "cell_type": "code",
   "execution_count": 2,
   "id": "9da3616c",
   "metadata": {
    "ExecuteTime": {
     "end_time": "2024-03-05T15:03:46.656483Z",
     "start_time": "2024-03-05T15:03:46.627824Z"
    }
   },
   "outputs": [],
   "source": [
    "from astropy.time import Time, TimeDelta\n",
    "#from juliantime import GD_to_JD\n",
    "\n",
    "# Define the observation time in the local time zone\n",
    "observation_time_local = Time('2024-02-27T20:00:00')\n",
    "\n",
    "# Define the time zone offset (for Swiss winter time: UTC+01:00)\n",
    "UTC_offset = 1\n",
    "timezone_offset = TimeDelta(UTC_offset * u.hour)\n",
    "\n",
    "# Convert the observation time back to UTC\n",
    "observation_time_utc = observation_time_local - timezone_offset"
   ]
  },
  {
   "cell_type": "markdown",
   "id": "bcd06c3c",
   "metadata": {},
   "source": [
    "Now to obtain the properties of a certain star, specify the right ascension (RA) and declination (Dec). Most of the properties are retrieved from the \"bsc5-all.json\" file apart from the distance, which is determined through the parallax. Parallax angles below 0.01 arcseconds are hard to measure which leads to a higher uncertainty on the distance."
   ]
  },
  {
   "cell_type": "code",
   "execution_count": 3,
   "id": "3845fce8",
   "metadata": {
    "ExecuteTime": {
     "end_time": "2024-03-05T15:03:47.603698Z",
     "start_time": "2024-03-05T15:03:47.481517Z"
    }
   },
   "outputs": [
    {
     "data": {
      "text/plain": "'\\n# Iterate through stars data to find a match\\nfor star in stars_data:\\n    # Convert star\\'s RA and Dec from string to decimal for comparison\\n    star_ra_decimal, star_dec_decimal = convert_ra_dec(star[\"RA\"], star[\"Dec\"])\\n\\n    # Check if the given RA and Dec match the star\\'s RA and Dec\\n    if abs(star_ra_decimal - given_ra_decimal) < 0.001 and abs(star_dec_decimal - given_dec_decimal) < 0.001:\\n        # Extract parallax and B-V magnitude if available\\n        BayerF = star.get(\"BayerF\")\\n        common = star.get(\"Common\")\\n        parallax = float(star.get(\"Parallax\"))\\n        BV = float(star.get(\"B-V\"))\\n        UB = float(star.get(\"U-B\"))\\n        temp = float(star.get(\"K\"))\\n        distance = 1/parallax\\n        name = star.get(\"Name\")\\n        Vmag = float(star.get(\"Vmag\"))\\n        \\n        print(\"Bayer Designation:\", BayerF)\\n        print(\"Common Name:\", common)\\n        print(\"Parallax:\", parallax, \"arcseconds\")\\n        print(\"Surface Temperature:\", temp,\"K\")\\n        print(\"V Magnitude:\", Vmag)\\n        print(\"B-V Magnitude:\", BV)\\n        print(\"U-B Magnitude:\", UB)\\n        print(\"Distance:\", round(distance,1),\"ps / \", round(distance*3.262, 1),\"ly\")\\n        print(name)\\n        break\\nelse:\\n    print(\"Star not found in the data.\")\\n    \\n'"
     },
     "execution_count": 3,
     "metadata": {},
     "output_type": "execute_result"
    }
   ],
   "source": [
    "from numpy import round\n",
    "\n",
    "\n",
    "# Load the JSON data\n",
    "with open('bsc5-all.json', 'r') as file:\n",
    "    stars_data = json.load(file)\n",
    "\n",
    "# Given RA and Dec\n",
    "given_ra = \"00h 05m 09s\"\n",
    "given_dec = \"+45° 13′ 45″\"\n",
    "\n",
    "# Convert given RA and Dec to the format in the JSON data for comparison\n",
    "def convert_ra_dec(ra_str, dec_str):\n",
    "    ra_parts = ra_str.split(' ')\n",
    "    ra_h = int(ra_parts[0][:-1])\n",
    "    ra_m = int(ra_parts[1][:-1])\n",
    "    ra_s = float(ra_parts[2][:-1])\n",
    "    ra_decimal = ra_h + ra_m / 60 + ra_s / 3600\n",
    "\n",
    "    dec_parts = dec_str.split(' ')\n",
    "    dec_d = int(dec_parts[0][:-1])\n",
    "    dec_m = int(dec_parts[1][:-1])\n",
    "    dec_s = float(dec_parts[2][:-1])\n",
    "    dec_decimal = dec_d + dec_m / 60 + dec_s / 3600\n",
    "\n",
    "    return ra_decimal, dec_decimal\n",
    "\n",
    "given_ra_decimal, given_dec_decimal = convert_ra_dec(given_ra, given_dec)\n",
    "\"\"\"\n",
    "# Iterate through stars data to find a match\n",
    "for star in stars_data:\n",
    "    # Convert star's RA and Dec from string to decimal for comparison\n",
    "    star_ra_decimal, star_dec_decimal = convert_ra_dec(star[\"RA\"], star[\"Dec\"])\n",
    "\n",
    "    # Check if the given RA and Dec match the star's RA and Dec\n",
    "    if abs(star_ra_decimal - given_ra_decimal) < 0.001 and abs(star_dec_decimal - given_dec_decimal) < 0.001:\n",
    "        # Extract parallax and B-V magnitude if available\n",
    "        BayerF = star.get(\"BayerF\")\n",
    "        common = star.get(\"Common\")\n",
    "        parallax = float(star.get(\"Parallax\"))\n",
    "        BV = float(star.get(\"B-V\"))\n",
    "        UB = float(star.get(\"U-B\"))\n",
    "        temp = float(star.get(\"K\"))\n",
    "        distance = 1/parallax\n",
    "        name = star.get(\"Name\")\n",
    "        Vmag = float(star.get(\"Vmag\"))\n",
    "        \n",
    "        print(\"Bayer Designation:\", BayerF)\n",
    "        print(\"Common Name:\", common)\n",
    "        print(\"Parallax:\", parallax, \"arcseconds\")\n",
    "        print(\"Surface Temperature:\", temp,\"K\")\n",
    "        print(\"V Magnitude:\", Vmag)\n",
    "        print(\"B-V Magnitude:\", BV)\n",
    "        print(\"U-B Magnitude:\", UB)\n",
    "        print(\"Distance:\", round(distance,1),\"ps / \", round(distance*3.262, 1),\"ly\")\n",
    "        print(name)\n",
    "        break\n",
    "else:\n",
    "    print(\"Star not found in the data.\")\n",
    "    \n",
    "\"\"\""
   ]
  },
  {
   "cell_type": "markdown",
   "id": "d2dc78b6",
   "metadata": {},
   "source": [
    "If one wants to print out all the properties, run this part with `print_all` set to yes:"
   ]
  },
  {
   "cell_type": "code",
   "execution_count": 4,
   "id": "6560901e",
   "metadata": {
    "scrolled": true,
    "ExecuteTime": {
     "end_time": "2024-03-05T15:03:49.206985Z",
     "start_time": "2024-03-05T15:03:49.201146Z"
    }
   },
   "outputs": [],
   "source": [
    "print_all = \"no\"\n",
    "\n",
    "if print_all == \"yes\":\n",
    "    for star in stars_data:\n",
    "        # Convert star's RA and Dec from string to decimal for comparison\n",
    "        star_ra_decimal, star_dec_decimal = convert_ra_dec(star[\"RA\"], star[\"Dec\"])\n",
    "\n",
    "        # Check if the given RA and Dec match the star's RA and Dec\n",
    "        if abs(star_ra_decimal - given_ra_decimal) < 0.001 and abs(star_dec_decimal - given_dec_decimal) < 0.001:\n",
    "            # Print all properties of the matching star\n",
    "            for key, value in star.items():\n",
    "                print(f\"{key}: {value}\")\n",
    "            break"
   ]
  },
  {
   "cell_type": "markdown",
   "id": "5927f5f5",
   "metadata": {},
   "source": [
    "Now given the observers location and time, together with the equitorial coordinates of the object to be observed one can retrieve the horizontal coordinates:"
   ]
  },
  {
   "cell_type": "code",
   "execution_count": 31,
   "id": "f198501b",
   "metadata": {
    "ExecuteTime": {
     "end_time": "2024-02-29T09:31:41.220997Z",
     "start_time": "2024-02-29T09:31:41.215374Z"
    }
   },
   "outputs": [
    {
     "name": "stdout",
     "output_type": "stream",
     "text": [
      "Azimuth: 303d58m34.39144587s\n",
      "Altitude: 32d05m49.26893846s\n"
     ]
    }
   ],
   "source": [
    "from astropy.coordinates import SkyCoord, EarthLocation, AltAz\n",
    "import astropy.units as u\n",
    "from astropy.time import Time\n",
    "from numpy import sin, cos, arcsin, degrees\n",
    "\n",
    "# Convert latitude to radians\n",
    "#lat_rad = lat.to(u.rad)\n",
    "\n",
    "# Convert equatorial coordinates to SkyCoord object\n",
    "equatorial_coords = SkyCoord(given_ra_decimal, given_dec_decimal, unit=(u.hourangle, u.deg), frame='icrs')\n",
    "\n",
    "# Calculate horizontal coordinates\n",
    "altaz_coords = equatorial_coords.transform_to(AltAz(obstime=observation_time_utc, location=EarthLocation(lat=lat, lon=lon, height=height)))\n",
    "\n",
    "# Extract azimuth and altitude\n",
    "azimuth = altaz_coords.az\n",
    "altitude = altaz_coords.alt\n",
    "\n",
    "print(\"Azimuth:\", azimuth)\n",
    "print(\"Altitude:\", altitude)\n",
    "\n",
    "if altitude < 0:\n",
    "    print(\"not visible during that time\")\n"
   ]
  },
  {
   "cell_type": "markdown",
   "id": "8ca08eb5",
   "metadata": {},
   "source": [
    "One can determine the trail it will leave across the sky, some hours before and after the set observation time."
   ]
  },
  {
   "cell_type": "code",
   "execution_count": 32,
   "id": "f7632d2e",
   "metadata": {
    "scrolled": true,
    "ExecuteTime": {
     "end_time": "2024-02-29T09:42:18.370347Z",
     "start_time": "2024-02-29T09:42:18.258137Z"
    }
   },
   "outputs": [
    {
     "name": "stderr",
     "output_type": "stream",
     "text": [
      "No artists with labels found to put in legend.  Note that artists whose label start with an underscore are ignored when legend() is called with no argument.\n"
     ]
    },
    {
     "name": "stdout",
     "output_type": "stream",
     "text": [
      "[[303.97621985]\n",
      " [304.9171556 ]\n",
      " [305.86581819]\n",
      " [306.82248555]\n",
      " [307.7874234 ]\n",
      " [308.76088528]\n",
      " [309.74311246]\n",
      " [310.7343338 ]\n",
      " [311.73476541]\n",
      " [312.74461028]\n",
      " [313.76405788]\n",
      " [314.79328353]\n",
      " [315.83244786]\n",
      " [316.88169612]\n",
      " [317.94115743]\n",
      " [319.01094403]\n",
      " [320.09115044]\n",
      " [321.1818526 ]\n",
      " [322.28310702]\n",
      " [323.39494986]\n",
      " [324.51739603]\n",
      " [325.65043829]\n",
      " [326.79404637]\n",
      " [327.94816608]\n",
      " [329.11271856]\n",
      " [330.28759941]\n",
      " [331.47267807]\n",
      " [332.66779715]\n",
      " [333.87277189]\n",
      " [335.08738971]\n",
      " [336.31140996]\n",
      " [337.54456363]\n",
      " [338.78655339]\n",
      " [340.03705368]\n",
      " [341.29571093]\n",
      " [342.56214408]\n",
      " [343.83594514]\n",
      " [345.11668005]\n",
      " [346.40388963]\n",
      " [347.69709079]\n",
      " [348.99577789]\n",
      " [350.29942429]\n",
      " [351.60748406]\n",
      " [352.9193939 ]\n",
      " [354.23457512]\n",
      " [355.55243588]\n",
      " [356.87237343]\n",
      " [358.19377653]\n",
      " [359.5160279 ]\n",
      " [  0.83850678]\n",
      " [  2.16059146]\n",
      " [  3.48166185]\n",
      " [  4.80110206]\n",
      " [  6.11830288]\n",
      " [  7.43266426]\n",
      " [  8.74359766]\n",
      " [ 10.05052831]\n",
      " [ 11.35289738]\n",
      " [ 12.65016394]\n",
      " [ 13.94180682]\n",
      " [ 15.22732627]\n",
      " [ 16.5062455 ]\n",
      " [ 17.77811196]\n",
      " [ 19.04249849]\n",
      " [ 20.29900425]\n",
      " [ 21.5472555 ]\n",
      " [ 22.78690615]\n",
      " [ 24.0176382 ]\n",
      " [ 25.23916189]\n",
      " [ 26.45121585]\n",
      " [ 27.65356697]\n",
      " [ 28.84601018]\n",
      " [ 30.02836811]\n",
      " [ 31.20049062]\n",
      " [ 32.36225422]\n",
      " [ 33.51356145]\n",
      " [ 34.65434013]\n",
      " [ 35.78454259]\n",
      " [ 36.90414481]\n",
      " [ 38.01314558]\n",
      " [ 39.1115656 ]\n",
      " [ 40.19944658]\n",
      " [ 41.27685033]\n",
      " [ 42.34385785]\n",
      " [ 43.40056852]\n",
      " [ 44.44709917]\n",
      " [ 45.48358333]\n",
      " [ 46.51017043]\n",
      " [ 47.52702512]\n",
      " [ 48.53432657]\n",
      " [ 49.53226792]\n",
      " [ 50.52105574]\n",
      " [ 51.50090958]\n",
      " [ 52.47206166]\n",
      " [ 53.43475655]\n",
      " [ 54.38925107]\n",
      " [ 55.33581421]]\n"
     ]
    },
    {
     "data": {
      "text/plain": "<Figure size 640x480 with 2 Axes>",
      "image/png": "[encoded data removed]"
     },
     "metadata": {},
     "output_type": "display_data"
    }
   ],
   "source": [
    "import matplotlib.pyplot as plt\n",
    "import numpy as np\n",
    "from scipy.constants import sigma, pi\n",
    "\n",
    "# Define time range for trail calculation (12 hours before and after observation time)\n",
    "hours_before = 0\n",
    "hours_after = 12\n",
    "start_time = observation_time_utc - TimeDelta(hours_before * u.hour)\n",
    "end_time = observation_time_utc + TimeDelta(hours_after * u.hour)\n",
    "times = start_time + (end_time - start_time) * np.linspace(0, 1, 97)[:, None]\n",
    "\n",
    "# Calculate coordinates at each time step\n",
    "altitudes = []\n",
    "azimuths = []\n",
    "\n",
    "for time in times:\n",
    "    altaz_coords = equatorial_coords.transform_to(AltAz(obstime=time, location=EarthLocation(lat=lat, lon=lon, height=height)))\n",
    "    altitude = altaz_coords.alt\n",
    "    azimuth = altaz_coords.az\n",
    "    altitudes.append(altitude)\n",
    "    azimuths.append(azimuth)\n",
    "\n",
    "# Convert lists to arrays\n",
    "altitudes = np.array(altitudes)\n",
    "azimuths = np.array(azimuths)\n",
    "print(azimuths)\n",
    "azimuths_flat = azimuths.flatten()\n",
    "datetime_objects = [Time(time[0]).to_datetime() for time in times]\n",
    "\n",
    "# Extract only the time component from datetime objects and convert to string\n",
    "time_components = [dt.time().strftime('%H:%M:%S') for dt in datetime_objects]\n",
    "\n",
    "# Plot the trail\n",
    "plt.scatter(time_components, altitudes, c=azimuths_flat, cmap='ocean', label=BayerF)\n",
    "plt.colorbar(label='Azimuth [°]')  # Add color bar indicating azimuth\n",
    "plt.xticks(time_components[::8], rotation=60)\n",
    "plt.title('Star Trail')\n",
    "plt.xlabel('Time')\n",
    "plt.ylabel('Altitude [°]')\n",
    "plt.ylim(0,90)\n",
    "plt.legend()\n",
    "plt.grid(True)\n",
    "plt.show()"
   ]
  },
  {
   "cell_type": "markdown",
   "id": "19b8a827",
   "metadata": {},
   "source": [
    "To determine the apparent size one would first need to determine the photon flux:\n",
    "$$\n",
    "\\begin{equation}\n",
    "|S(\\bold{\\Omega})|^2 = \\frac{\\nu^2/c^2}{e^{h\\nu/(kT(\\bold{\\Omega}))}-1}\n",
    "\\end{equation}\n",
    "$$\n",
    "where $|S(\\bold{\\Omega})|^2$ is the photon flux coming from direction $\\bold{\\Omega}$ on the sky with units of photons m$^2$ sr$^{-1}$s$^{-1}$Hz$^{-1}$, where we are assuming the photons coming from a blackbody source with temperature profile map of $T(\\bold{\\Omega})$. We will for now assume a homogeneous spherically shaped temperature profile with $T$ being the effective temperature.\n",
    "Next we determine the spectral photon flux density, also referred to as the count degeneracy, which has the units of photons m$^{-2}$ s$^{-1}$ Hz$^{-1}$. It is found through\n",
    "$$\n",
    "\\begin{equation}\n",
    "\\Phi = \\frac{1}{2h\\nu}\\cdot 10^{-22.44-M_i/2.5} \\text{ W m$^{-2}$ Hz$^{-1}$}\n",
    "\\end{equation}\n",
    "$$\n",
    "where $\\nu = c/\\lambda$ is the frequency or wavelength of the filter used. We have the wavelengths 364 nm for U, 442 nm for B, 540 nm for V. Finally the area in steradians can be determined through\n",
    "$$\n",
    "\\begin{equation}\n",
    "A_\\text{in sr} = \\frac{\\Phi}{|S(\\bold{\\Omega})|^2}\n",
    "\\end{equation}\n",
    "$$\n",
    "and convert the area in steradians to radians"
   ]
  },
  {
   "cell_type": "code",
   "execution_count": 29,
   "id": "1066ecaa",
   "metadata": {
    "ExecuteTime": {
     "end_time": "2024-02-29T09:30:55.736265Z",
     "start_time": "2024-02-29T09:30:55.723343Z"
    }
   },
   "outputs": [
    {
     "ename": "NameError",
     "evalue": "name 'Vmag' is not defined",
     "output_type": "error",
     "traceback": [
      "\u001B[0;31m---------------------------------------------------------------------------\u001B[0m",
      "\u001B[0;31mNameError\u001B[0m                                 Traceback (most recent call last)",
      "Cell \u001B[0;32mIn[29], line 2\u001B[0m\n\u001B[1;32m      1\u001B[0m \u001B[38;5;28;01mfrom\u001B[39;00m \u001B[38;5;21;01mscipy\u001B[39;00m\u001B[38;5;21;01m.\u001B[39;00m\u001B[38;5;21;01mconstants\u001B[39;00m \u001B[38;5;28;01mimport\u001B[39;00m c, h, k, e\n\u001B[0;32m----> 2\u001B[0m M_V \u001B[38;5;241m=\u001B[39m Vmag\n\u001B[1;32m      3\u001B[0m M_B \u001B[38;5;241m=\u001B[39m Vmag\u001B[38;5;241m+\u001B[39mBV\n\u001B[1;32m      4\u001B[0m M_U \u001B[38;5;241m=\u001B[39m M_B\u001B[38;5;241m+\u001B[39mUB\n",
      "\u001B[0;31mNameError\u001B[0m: name 'Vmag' is not defined"
     ]
    }
   ],
   "source": [
    "from scipy.constants import c, h, k, e\n",
    "M_V = Vmag\n",
    "M_B = Vmag+BV\n",
    "M_U = M_B+UB\n",
    "U_lambda = 364*10**(-9)\n",
    "V_lambda = 540*10**(-9)\n",
    "B_lambda = 442*10**(-9)\n",
    "filters = [[\"U\", \"V\", \"B\"], [M_U, M_V, M_B], [U_lambda, V_lambda, B_lambda]]\n",
    "diameters = []\n",
    "for i in range(len(filters[0])):  # Iterating over the filters\n",
    "    filter_name = filters[0][i]\n",
    "    magnitude = filters[1][i]\n",
    "    lambda_ = filters[2][i]\n",
    "\n",
    "    nu = c / lambda_\n",
    "    Phi = 10**(-22.44 - magnitude / 2.5) / (2 * nu * h)\n",
    "    S = (nu**2 / c**2) / np.exp((h * nu) / (k * temp))\n",
    "    area_steradian = Phi / S\n",
    "\n",
    "    radius_radians = np.sqrt(area_steradian / (pi))\n",
    "    diameter = (6 / pi) * 60**3 * radius_radians\n",
    "    diameters.append(diameter)\n",
    "    print(\"Diameter determined through\", filter_name, \"filter:\", np.round(diameter * 10**3, 2), \"mas\")\n"
   ]
  }
 ],
 "metadata": {
  "kernelspec": {
   "display_name": "Python 3 (ipykernel)",
   "language": "python",
   "name": "python3"
  },
  "language_info": {
   "codemirror_mode": {
    "name": "ipython",
    "version": 3
   },
   "file_extension": ".py",
   "mimetype": "text/x-python",
   "name": "python",
   "nbconvert_exporter": "python",
   "pygments_lexer": "ipython3",
   "version": "3.12.2"
  }
 },
 "nbformat": 4,
 "nbformat_minor": 5
}
