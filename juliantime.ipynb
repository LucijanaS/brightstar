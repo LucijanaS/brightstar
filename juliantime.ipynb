{
 "cells": [
  {
   "cell_type": "markdown",
   "metadata": {},
   "source": [
    "# Julian Time\n",
    "\n",
    "Astronomers do not use standard Gregorian calendar dates. Instead, a decimal year-independent system is used, giving what is known as the Julian Date (JD). The Julian Date is the number of days since noon on 01. January 4713 BCE by the Julian calendar, a date schosen because it is the convergence of the indiction, metonic and solar cycles, an event that will not occur again until 3268 CE. Fractions of the days are expressed as decimals.\n",
    "\n",
    "The calculation from Gregorian date to JD is straighforward but long and laborious.\n",
    "However it can be calculated in a truncated form."
   ]
  },
  {
   "cell_type": "markdown",
   "metadata": {},
   "source": [
    "Given the time with Y the current year, M the number of days since the start of the curent year, D the day of the month, H the hour (in 24h format), m the minutes, s the seconds."
   ]
  },
  {
   "cell_type": "code",
   "execution_count": 52,
   "metadata": {},
   "outputs": [],
   "source": [
    "from datetime import datetime\n",
    "\n",
    "Y = 2008\n",
    "M = 3\n",
    "D = 21\n",
    "H = 16\n",
    "m = 0\n",
    "s = 0"
   ]
  },
  {
   "cell_type": "markdown",
   "metadata": {},
   "source": [
    "# Conversion for dates after 1 January 2000"
   ]
  },
  {
   "cell_type": "markdown",
   "metadata": {},
   "source": [
    "Determine the number of leap days between the selected date and 1 January 2000:"
   ]
  },
  {
   "cell_type": "code",
   "execution_count": 53,
   "metadata": {},
   "outputs": [
    {
     "name": "stdout",
     "output_type": "stream",
     "text": [
      "3\n"
     ]
    }
   ],
   "source": [
    "L = 0\n",
    "for y in range(2000, Y+1):\n",
    "    if (y % 4 == 0 and y % 100 != 0) or (y % 400 == 0):\n",
    "            L += 1\n",
    "print(L)"
   ]
  },
  {
   "cell_type": "markdown",
   "metadata": {},
   "source": [
    "Determine the number of days in the year Y considering the date:"
   ]
  },
  {
   "cell_type": "code",
   "execution_count": 54,
   "metadata": {},
   "outputs": [
    {
     "name": "stdout",
     "output_type": "stream",
     "text": [
      "81\n"
     ]
    }
   ],
   "source": [
    "def day_of_year(year, month, day):\n",
    "    date_string = f\"{year}-{month}-{day}\"\n",
    "    date_obj = datetime.strptime(date_string, \"%Y-%m-%d\")\n",
    "    return date_obj.timetuple().tm_yday\n",
    "D_Y = day_of_year(Y, M, D)\n",
    "print(D_Y)"
   ]
  },
  {
   "cell_type": "markdown",
   "metadata": {},
   "source": [
    "The Julian Time is therefore:"
   ]
  },
  {
   "cell_type": "code",
   "execution_count": 58,
   "metadata": {},
   "outputs": [
    {
     "name": "stdout",
     "output_type": "stream",
     "text": [
      "2454549.1666666665\n"
     ]
    }
   ],
   "source": [
    "JD = 2451544.5 + 365*(Y - 2000) + D_Y + L + (H * 3600 + m*60 +s)/86400\n",
    "print(JD)"
   ]
  },
  {
   "cell_type": "code",
   "execution_count": 1,
   "metadata": {},
   "outputs": [],
   "source": [
    "def GD_to_JD(Y,M,D,h,m,s):\n",
    "    return(yesand)"
   ]
  },
  {
   "cell_type": "code",
   "execution_count": null,
   "metadata": {},
   "outputs": [],
   "source": []
  }
 ],
 "metadata": {
  "kernelspec": {
   "display_name": "Python 3 (ipykernel)",
   "language": "python",
   "name": "python3"
  },
  "language_info": {
   "codemirror_mode": {
    "name": "ipython",
    "version": 3
   },
   "file_extension": ".py",
   "mimetype": "text/x-python",
   "name": "python",
   "nbconvert_exporter": "python",
   "pygments_lexer": "ipython3",
   "version": "3.11.5"
  }
 },
 "nbformat": 4,
 "nbformat_minor": 4
}
